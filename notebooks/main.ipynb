{
   "cells": [
      {
         "cell_type": "code",
         "execution_count": 1,
         "metadata": {},
         "outputs": [],
         "source": [
            "import numpy as np\n",
            "import plotly.express as px\n",
            "import tensorflow as tf\n",
            "from utils.preprocessing import *\n",
            "import sys\n",
            "\n",
            "from sklearn.model_selection import train_test_split\n",
            "from sklearn.ensemble import RandomForestClassifier\n",
            "from sklearn import metrics\n",
            "\n",
            "from keras.backend import *\n",
            "from tensorflow.python.ops.numpy_ops import np_config\n",
            "np_config.enable_numpy_behavior() # enables np methods on tensors"
         ]
      },
      {
         "cell_type": "code",
         "execution_count": 2,
         "metadata": {},
         "outputs": [],
         "source": [
            "#testing_dir = '../data/C-NMC_Leukemia/testing_data/C-NMC_test_final_phase_data' ### WE DO NOT USE THIS\n",
            "training_dir_base = f'../data/C-NMC_Leukemia/training_data/' \n",
            "fold_0_all_path = 'fold_0/all'\n",
            "fold_0_hem_path = 'fold_0/hem'\n",
            "fold_1_all_path = 'fold_1/all'\n",
            "fold_1_hem_path = 'fold_1/hem'"
         ]
      },
      {
         "cell_type": "code",
         "execution_count": 3,
         "metadata": {},
         "outputs": [],
         "source": [
            "### The code for this lives in notebooks.utils.preprocessing\n",
            "### Get grayscale images as tensors, and labels for both classes\n",
            "img_train_cancer = get_gray_images(training_dir_base+fold_0_all_path)\n",
            "img_train_healthy = get_gray_images(training_dir_base+fold_0_hem_path)\n",
            "train_health_labels = [0 for _ in range(len(img_train_healthy))]\n",
            "train_cancer_labels = [1 for _ in range(len(img_train_cancer))]"
         ]
      },
      {
         "cell_type": "markdown",
         "metadata": {},
         "source": [
            "## Random Forests"
         ]
      },
      {
         "cell_type": "code",
         "execution_count": 8,
         "metadata": {},
         "outputs": [],
         "source": [
            "def randomForestAccuracy(img_cancer, img_healthy, labels_healthy, labels_cancer, nest=100, mssplit=2, mleaf=1):\n",
            "    ### For random forests, X is our combined image set and y is our combined label set.\n",
            "    X =  np.array(img_cancer + img_healthy)\n",
            "    y = np.array(labels_cancer + labels_healthy)\n",
            "\n",
            "    ### train-test-split our data, and initialize the forest.\n",
            "    X_train, X_test, y_train, y_test = train_test_split(X, y, stratify=y, test_size=0.3, random_state=100)\n",
            "\n",
            "    forest = RandomForestClassifier(n_estimators=nest, random_state=100, min_samples_split=mssplit, min_samples_leaf=mleaf)\n",
            "\n",
            "    ### The random forests algorithm expects 2 dimensional data at the most.\n",
            "    ### We can accomplish this on our 4-dimensional data by multiplying the last 3 dimensions together to flatten the data\n",
            "    X_shape = X_train.shape\n",
            "    X_tshape = X_test.shape\n",
            "    X_train = X_train.reshape(X_shape[0], X_shape[1] * X_shape[2] * X_shape[3])\n",
            "    X_test = X_test.reshape(X_tshape[0], X_tshape[1] * X_tshape[2] * X_tshape[3])\n",
            "\n",
            "    ### Fit the random forest, try it on the test data, and assess the model's accuracy\n",
            "    forest.fit(X_train,y_train)\n",
            "    predictions = forest.predict(X_test)\n",
            "    return metrics.accuracy_score(y_test, predictions), forest, predictions, y_test"
         ]
      },
      {
         "cell_type": "code",
         "execution_count": 9,
         "metadata": {},
         "outputs": [],
         "source": [
            "accuracy_original, rf_model, predictions, labels = randomForestAccuracy(img_train_cancer, img_train_healthy, train_health_labels, train_cancer_labels)"
         ]
      },
      {
         "cell_type": "code",
         "execution_count": 13,
         "metadata": {},
         "outputs": [
            {
               "data": {
                  "application/vnd.plotly.v1+json": {
                     "config": {
                        "plotlyServerURL": "https://plot.ly"
                     },
                     "data": [
                        {
                           "coloraxis": "coloraxis",
                           "hovertemplate": "Confusion Matrix Random Forest: %{x}<br>y: %{y}<br>color: %{z}<extra></extra>",
                           "name": "0",
                           "texttemplate": "%{z}",
                           "type": "heatmap",
                           "x": [
                              "Positive",
                              "Negative"
                           ],
                           "xaxis": "x",
                           "y": [
                              "Positive",
                              "Negative"
                           ],
                           "yaxis": "y",
                           "z": [
                              [
                                 235,
                                 66
                              ],
                              [
                                 45,
                                 255
                              ]
                           ]
                        }
                     ],
                     "layout": {
                        "coloraxis": {
                           "colorscale": [
                              [
                                 0,
                                 "#0d0887"
                              ],
                              [
                                 0.1111111111111111,
                                 "#46039f"
                              ],
                              [
                                 0.2222222222222222,
                                 "#7201a8"
                              ],
                              [
                                 0.3333333333333333,
                                 "#9c179e"
                              ],
                              [
                                 0.4444444444444444,
                                 "#bd3786"
                              ],
                              [
                                 0.5555555555555556,
                                 "#d8576b"
                              ],
                              [
                                 0.6666666666666666,
                                 "#ed7953"
                              ],
                              [
                                 0.7777777777777778,
                                 "#fb9f3a"
                              ],
                              [
                                 0.8888888888888888,
                                 "#fdca26"
                              ],
                              [
                                 1,
                                 "#f0f921"
                              ]
                           ]
                        },
                        "margin": {
                           "t": 60
                        },
                        "template": {
                           "data": {
                              "bar": [
                                 {
                                    "error_x": {
                                       "color": "#2a3f5f"
                                    },
                                    "error_y": {
                                       "color": "#2a3f5f"
                                    },
                                    "marker": {
                                       "line": {
                                          "color": "#E5ECF6",
                                          "width": 0.5
                                       },
                                       "pattern": {
                                          "fillmode": "overlay",
                                          "size": 10,
                                          "solidity": 0.2
                                       }
                                    },
                                    "type": "bar"
                                 }
                              ],
                              "barpolar": [
                                 {
                                    "marker": {
                                       "line": {
                                          "color": "#E5ECF6",
                                          "width": 0.5
                                       },
                                       "pattern": {
                                          "fillmode": "overlay",
                                          "size": 10,
                                          "solidity": 0.2
                                       }
                                    },
                                    "type": "barpolar"
                                 }
                              ],
                              "carpet": [
                                 {
                                    "aaxis": {
                                       "endlinecolor": "#2a3f5f",
                                       "gridcolor": "white",
                                       "linecolor": "white",
                                       "minorgridcolor": "white",
                                       "startlinecolor": "#2a3f5f"
                                    },
                                    "baxis": {
                                       "endlinecolor": "#2a3f5f",
                                       "gridcolor": "white",
                                       "linecolor": "white",
                                       "minorgridcolor": "white",
                                       "startlinecolor": "#2a3f5f"
                                    },
                                    "type": "carpet"
                                 }
                              ],
                              "choropleth": [
                                 {
                                    "colorbar": {
                                       "outlinewidth": 0,
                                       "ticks": ""
                                    },
                                    "type": "choropleth"
                                 }
                              ],
                              "contour": [
                                 {
                                    "colorbar": {
                                       "outlinewidth": 0,
                                       "ticks": ""
                                    },
                                    "colorscale": [
                                       [
                                          0,
                                          "#0d0887"
                                       ],
                                       [
                                          0.1111111111111111,
                                          "#46039f"
                                       ],
                                       [
                                          0.2222222222222222,
                                          "#7201a8"
                                       ],
                                       [
                                          0.3333333333333333,
                                          "#9c179e"
                                       ],
                                       [
                                          0.4444444444444444,
                                          "#bd3786"
                                       ],
                                       [
                                          0.5555555555555556,
                                          "#d8576b"
                                       ],
                                       [
                                          0.6666666666666666,
                                          "#ed7953"
                                       ],
                                       [
                                          0.7777777777777778,
                                          "#fb9f3a"
                                       ],
                                       [
                                          0.8888888888888888,
                                          "#fdca26"
                                       ],
                                       [
                                          1,
                                          "#f0f921"
                                       ]
                                    ],
                                    "type": "contour"
                                 }
                              ],
                              "contourcarpet": [
                                 {
                                    "colorbar": {
                                       "outlinewidth": 0,
                                       "ticks": ""
                                    },
                                    "type": "contourcarpet"
                                 }
                              ],
                              "heatmap": [
                                 {
                                    "colorbar": {
                                       "outlinewidth": 0,
                                       "ticks": ""
                                    },
                                    "colorscale": [
                                       [
                                          0,
                                          "#0d0887"
                                       ],
                                       [
                                          0.1111111111111111,
                                          "#46039f"
                                       ],
                                       [
                                          0.2222222222222222,
                                          "#7201a8"
                                       ],
                                       [
                                          0.3333333333333333,
                                          "#9c179e"
                                       ],
                                       [
                                          0.4444444444444444,
                                          "#bd3786"
                                       ],
                                       [
                                          0.5555555555555556,
                                          "#d8576b"
                                       ],
                                       [
                                          0.6666666666666666,
                                          "#ed7953"
                                       ],
                                       [
                                          0.7777777777777778,
                                          "#fb9f3a"
                                       ],
                                       [
                                          0.8888888888888888,
                                          "#fdca26"
                                       ],
                                       [
                                          1,
                                          "#f0f921"
                                       ]
                                    ],
                                    "type": "heatmap"
                                 }
                              ],
                              "heatmapgl": [
                                 {
                                    "colorbar": {
                                       "outlinewidth": 0,
                                       "ticks": ""
                                    },
                                    "colorscale": [
                                       [
                                          0,
                                          "#0d0887"
                                       ],
                                       [
                                          0.1111111111111111,
                                          "#46039f"
                                       ],
                                       [
                                          0.2222222222222222,
                                          "#7201a8"
                                       ],
                                       [
                                          0.3333333333333333,
                                          "#9c179e"
                                       ],
                                       [
                                          0.4444444444444444,
                                          "#bd3786"
                                       ],
                                       [
                                          0.5555555555555556,
                                          "#d8576b"
                                       ],
                                       [
                                          0.6666666666666666,
                                          "#ed7953"
                                       ],
                                       [
                                          0.7777777777777778,
                                          "#fb9f3a"
                                       ],
                                       [
                                          0.8888888888888888,
                                          "#fdca26"
                                       ],
                                       [
                                          1,
                                          "#f0f921"
                                       ]
                                    ],
                                    "type": "heatmapgl"
                                 }
                              ],
                              "histogram": [
                                 {
                                    "marker": {
                                       "pattern": {
                                          "fillmode": "overlay",
                                          "size": 10,
                                          "solidity": 0.2
                                       }
                                    },
                                    "type": "histogram"
                                 }
                              ],
                              "histogram2d": [
                                 {
                                    "colorbar": {
                                       "outlinewidth": 0,
                                       "ticks": ""
                                    },
                                    "colorscale": [
                                       [
                                          0,
                                          "#0d0887"
                                       ],
                                       [
                                          0.1111111111111111,
                                          "#46039f"
                                       ],
                                       [
                                          0.2222222222222222,
                                          "#7201a8"
                                       ],
                                       [
                                          0.3333333333333333,
                                          "#9c179e"
                                       ],
                                       [
                                          0.4444444444444444,
                                          "#bd3786"
                                       ],
                                       [
                                          0.5555555555555556,
                                          "#d8576b"
                                       ],
                                       [
                                          0.6666666666666666,
                                          "#ed7953"
                                       ],
                                       [
                                          0.7777777777777778,
                                          "#fb9f3a"
                                       ],
                                       [
                                          0.8888888888888888,
                                          "#fdca26"
                                       ],
                                       [
                                          1,
                                          "#f0f921"
                                       ]
                                    ],
                                    "type": "histogram2d"
                                 }
                              ],
                              "histogram2dcontour": [
                                 {
                                    "colorbar": {
                                       "outlinewidth": 0,
                                       "ticks": ""
                                    },
                                    "colorscale": [
                                       [
                                          0,
                                          "#0d0887"
                                       ],
                                       [
                                          0.1111111111111111,
                                          "#46039f"
                                       ],
                                       [
                                          0.2222222222222222,
                                          "#7201a8"
                                       ],
                                       [
                                          0.3333333333333333,
                                          "#9c179e"
                                       ],
                                       [
                                          0.4444444444444444,
                                          "#bd3786"
                                       ],
                                       [
                                          0.5555555555555556,
                                          "#d8576b"
                                       ],
                                       [
                                          0.6666666666666666,
                                          "#ed7953"
                                       ],
                                       [
                                          0.7777777777777778,
                                          "#fb9f3a"
                                       ],
                                       [
                                          0.8888888888888888,
                                          "#fdca26"
                                       ],
                                       [
                                          1,
                                          "#f0f921"
                                       ]
                                    ],
                                    "type": "histogram2dcontour"
                                 }
                              ],
                              "mesh3d": [
                                 {
                                    "colorbar": {
                                       "outlinewidth": 0,
                                       "ticks": ""
                                    },
                                    "type": "mesh3d"
                                 }
                              ],
                              "parcoords": [
                                 {
                                    "line": {
                                       "colorbar": {
                                          "outlinewidth": 0,
                                          "ticks": ""
                                       }
                                    },
                                    "type": "parcoords"
                                 }
                              ],
                              "pie": [
                                 {
                                    "automargin": true,
                                    "type": "pie"
                                 }
                              ],
                              "scatter": [
                                 {
                                    "fillpattern": {
                                       "fillmode": "overlay",
                                       "size": 10,
                                       "solidity": 0.2
                                    },
                                    "type": "scatter"
                                 }
                              ],
                              "scatter3d": [
                                 {
                                    "line": {
                                       "colorbar": {
                                          "outlinewidth": 0,
                                          "ticks": ""
                                       }
                                    },
                                    "marker": {
                                       "colorbar": {
                                          "outlinewidth": 0,
                                          "ticks": ""
                                       }
                                    },
                                    "type": "scatter3d"
                                 }
                              ],
                              "scattercarpet": [
                                 {
                                    "marker": {
                                       "colorbar": {
                                          "outlinewidth": 0,
                                          "ticks": ""
                                       }
                                    },
                                    "type": "scattercarpet"
                                 }
                              ],
                              "scattergeo": [
                                 {
                                    "marker": {
                                       "colorbar": {
                                          "outlinewidth": 0,
                                          "ticks": ""
                                       }
                                    },
                                    "type": "scattergeo"
                                 }
                              ],
                              "scattergl": [
                                 {
                                    "marker": {
                                       "colorbar": {
                                          "outlinewidth": 0,
                                          "ticks": ""
                                       }
                                    },
                                    "type": "scattergl"
                                 }
                              ],
                              "scattermapbox": [
                                 {
                                    "marker": {
                                       "colorbar": {
                                          "outlinewidth": 0,
                                          "ticks": ""
                                       }
                                    },
                                    "type": "scattermapbox"
                                 }
                              ],
                              "scatterpolar": [
                                 {
                                    "marker": {
                                       "colorbar": {
                                          "outlinewidth": 0,
                                          "ticks": ""
                                       }
                                    },
                                    "type": "scatterpolar"
                                 }
                              ],
                              "scatterpolargl": [
                                 {
                                    "marker": {
                                       "colorbar": {
                                          "outlinewidth": 0,
                                          "ticks": ""
                                       }
                                    },
                                    "type": "scatterpolargl"
                                 }
                              ],
                              "scatterternary": [
                                 {
                                    "marker": {
                                       "colorbar": {
                                          "outlinewidth": 0,
                                          "ticks": ""
                                       }
                                    },
                                    "type": "scatterternary"
                                 }
                              ],
                              "surface": [
                                 {
                                    "colorbar": {
                                       "outlinewidth": 0,
                                       "ticks": ""
                                    },
                                    "colorscale": [
                                       [
                                          0,
                                          "#0d0887"
                                       ],
                                       [
                                          0.1111111111111111,
                                          "#46039f"
                                       ],
                                       [
                                          0.2222222222222222,
                                          "#7201a8"
                                       ],
                                       [
                                          0.3333333333333333,
                                          "#9c179e"
                                       ],
                                       [
                                          0.4444444444444444,
                                          "#bd3786"
                                       ],
                                       [
                                          0.5555555555555556,
                                          "#d8576b"
                                       ],
                                       [
                                          0.6666666666666666,
                                          "#ed7953"
                                       ],
                                       [
                                          0.7777777777777778,
                                          "#fb9f3a"
                                       ],
                                       [
                                          0.8888888888888888,
                                          "#fdca26"
                                       ],
                                       [
                                          1,
                                          "#f0f921"
                                       ]
                                    ],
                                    "type": "surface"
                                 }
                              ],
                              "table": [
                                 {
                                    "cells": {
                                       "fill": {
                                          "color": "#EBF0F8"
                                       },
                                       "line": {
                                          "color": "white"
                                       }
                                    },
                                    "header": {
                                       "fill": {
                                          "color": "#C8D4E3"
                                       },
                                       "line": {
                                          "color": "white"
                                       }
                                    },
                                    "type": "table"
                                 }
                              ]
                           },
                           "layout": {
                              "annotationdefaults": {
                                 "arrowcolor": "#2a3f5f",
                                 "arrowhead": 0,
                                 "arrowwidth": 1
                              },
                              "autotypenumbers": "strict",
                              "coloraxis": {
                                 "colorbar": {
                                    "outlinewidth": 0,
                                    "ticks": ""
                                 }
                              },
                              "colorscale": {
                                 "diverging": [
                                    [
                                       0,
                                       "#8e0152"
                                    ],
                                    [
                                       0.1,
                                       "#c51b7d"
                                    ],
                                    [
                                       0.2,
                                       "#de77ae"
                                    ],
                                    [
                                       0.3,
                                       "#f1b6da"
                                    ],
                                    [
                                       0.4,
                                       "#fde0ef"
                                    ],
                                    [
                                       0.5,
                                       "#f7f7f7"
                                    ],
                                    [
                                       0.6,
                                       "#e6f5d0"
                                    ],
                                    [
                                       0.7,
                                       "#b8e186"
                                    ],
                                    [
                                       0.8,
                                       "#7fbc41"
                                    ],
                                    [
                                       0.9,
                                       "#4d9221"
                                    ],
                                    [
                                       1,
                                       "#276419"
                                    ]
                                 ],
                                 "sequential": [
                                    [
                                       0,
                                       "#0d0887"
                                    ],
                                    [
                                       0.1111111111111111,
                                       "#46039f"
                                    ],
                                    [
                                       0.2222222222222222,
                                       "#7201a8"
                                    ],
                                    [
                                       0.3333333333333333,
                                       "#9c179e"
                                    ],
                                    [
                                       0.4444444444444444,
                                       "#bd3786"
                                    ],
                                    [
                                       0.5555555555555556,
                                       "#d8576b"
                                    ],
                                    [
                                       0.6666666666666666,
                                       "#ed7953"
                                    ],
                                    [
                                       0.7777777777777778,
                                       "#fb9f3a"
                                    ],
                                    [
                                       0.8888888888888888,
                                       "#fdca26"
                                    ],
                                    [
                                       1,
                                       "#f0f921"
                                    ]
                                 ],
                                 "sequentialminus": [
                                    [
                                       0,
                                       "#0d0887"
                                    ],
                                    [
                                       0.1111111111111111,
                                       "#46039f"
                                    ],
                                    [
                                       0.2222222222222222,
                                       "#7201a8"
                                    ],
                                    [
                                       0.3333333333333333,
                                       "#9c179e"
                                    ],
                                    [
                                       0.4444444444444444,
                                       "#bd3786"
                                    ],
                                    [
                                       0.5555555555555556,
                                       "#d8576b"
                                    ],
                                    [
                                       0.6666666666666666,
                                       "#ed7953"
                                    ],
                                    [
                                       0.7777777777777778,
                                       "#fb9f3a"
                                    ],
                                    [
                                       0.8888888888888888,
                                       "#fdca26"
                                    ],
                                    [
                                       1,
                                       "#f0f921"
                                    ]
                                 ]
                              },
                              "colorway": [
                                 "#636efa",
                                 "#EF553B",
                                 "#00cc96",
                                 "#ab63fa",
                                 "#FFA15A",
                                 "#19d3f3",
                                 "#FF6692",
                                 "#B6E880",
                                 "#FF97FF",
                                 "#FECB52"
                              ],
                              "font": {
                                 "color": "#2a3f5f"
                              },
                              "geo": {
                                 "bgcolor": "white",
                                 "lakecolor": "white",
                                 "landcolor": "#E5ECF6",
                                 "showlakes": true,
                                 "showland": true,
                                 "subunitcolor": "white"
                              },
                              "hoverlabel": {
                                 "align": "left"
                              },
                              "hovermode": "closest",
                              "mapbox": {
                                 "style": "light"
                              },
                              "paper_bgcolor": "white",
                              "plot_bgcolor": "#E5ECF6",
                              "polar": {
                                 "angularaxis": {
                                    "gridcolor": "white",
                                    "linecolor": "white",
                                    "ticks": ""
                                 },
                                 "bgcolor": "#E5ECF6",
                                 "radialaxis": {
                                    "gridcolor": "white",
                                    "linecolor": "white",
                                    "ticks": ""
                                 }
                              },
                              "scene": {
                                 "xaxis": {
                                    "backgroundcolor": "#E5ECF6",
                                    "gridcolor": "white",
                                    "gridwidth": 2,
                                    "linecolor": "white",
                                    "showbackground": true,
                                    "ticks": "",
                                    "zerolinecolor": "white"
                                 },
                                 "yaxis": {
                                    "backgroundcolor": "#E5ECF6",
                                    "gridcolor": "white",
                                    "gridwidth": 2,
                                    "linecolor": "white",
                                    "showbackground": true,
                                    "ticks": "",
                                    "zerolinecolor": "white"
                                 },
                                 "zaxis": {
                                    "backgroundcolor": "#E5ECF6",
                                    "gridcolor": "white",
                                    "gridwidth": 2,
                                    "linecolor": "white",
                                    "showbackground": true,
                                    "ticks": "",
                                    "zerolinecolor": "white"
                                 }
                              },
                              "shapedefaults": {
                                 "line": {
                                    "color": "#2a3f5f"
                                 }
                              },
                              "ternary": {
                                 "aaxis": {
                                    "gridcolor": "white",
                                    "linecolor": "white",
                                    "ticks": ""
                                 },
                                 "baxis": {
                                    "gridcolor": "white",
                                    "linecolor": "white",
                                    "ticks": ""
                                 },
                                 "bgcolor": "#E5ECF6",
                                 "caxis": {
                                    "gridcolor": "white",
                                    "linecolor": "white",
                                    "ticks": ""
                                 }
                              },
                              "title": {
                                 "x": 0.05
                              },
                              "xaxis": {
                                 "automargin": true,
                                 "gridcolor": "white",
                                 "linecolor": "white",
                                 "ticks": "",
                                 "title": {
                                    "standoff": 15
                                 },
                                 "zerolinecolor": "white",
                                 "zerolinewidth": 2
                              },
                              "yaxis": {
                                 "automargin": true,
                                 "gridcolor": "white",
                                 "linecolor": "white",
                                 "ticks": "",
                                 "title": {
                                    "standoff": 15
                                 },
                                 "zerolinecolor": "white",
                                 "zerolinewidth": 2
                              }
                           }
                        },
                        "xaxis": {
                           "anchor": "y",
                           "constrain": "domain",
                           "domain": [
                              0,
                              1
                           ],
                           "scaleanchor": "y",
                           "title": {
                              "text": "Confusion Matrix Random Forest"
                           }
                        },
                        "yaxis": {
                           "anchor": "x",
                           "autorange": "reversed",
                           "constrain": "domain",
                           "domain": [
                              0,
                              1
                           ]
                        }
                     }
                  }
               },
               "metadata": {},
               "output_type": "display_data"
            }
         ],
         "source": [
            "confusion_matrix = metrics.confusion_matrix(labels, predictions)\n",
            "px.imshow(\n",
            "    confusion_matrix, text_auto=True,\n",
            "    labels=dict(x=\"Confusion Matrix Random Forest\"),\n",
            "    x=['Positive', 'Negative'],\n",
            "    y=['Positive', 'Negative']\n",
            ")"
         ]
      },
      {
         "cell_type": "code",
         "execution_count": 8,
         "metadata": {},
         "outputs": [],
         "source": [
            "### Random forests, color\n",
            "### We will repeat the steps above, with color images instead.\n",
            "img_train_cancer = get_gray_images(training_dir_base+fold_0_all_path, 128)\n",
            "img_train_healthy = get_gray_images(training_dir_base+fold_0_hem_path, 128)"
         ]
      },
      {
         "cell_type": "code",
         "execution_count": 13,
         "metadata": {},
         "outputs": [],
         "source": [
            "accuracy_128, rf_model_128 = randomForestAccuracy(img_train_cancer, img_train_healthy, train_health_labels, train_cancer_labels)"
         ]
      },
      {
         "cell_type": "code",
         "execution_count": 14,
         "metadata": {},
         "outputs": [
            {
               "name": "stdout",
               "output_type": "stream",
               "text": [
                  "0.8153078202995009\n",
                  "0.8153078202995009\n"
               ]
            }
         ],
         "source": [
            "### I find that there is a negligible (0.4%) difference between full size and 128x128 downscaled images.\n",
            "### Because downscaled images process faster, I will use those\n",
            "print(accuracy_original)\n",
            "print(accuracy_128)"
         ]
      },
      {
         "cell_type": "code",
         "execution_count": 16,
         "metadata": {},
         "outputs": [],
         "source": [
            "### Assemble combinations of hyperparameters for tuning.\n",
            "from itertools import product\n",
            "_n_estimators = [50, 100, 150]\n",
            "_min_samples_split = [2, 5, 10]\n",
            "_min_samples_leaf = [1, 2, 5]\n",
            "list_of_lists = [_n_estimators, _min_samples_split, _min_samples_leaf]\n",
            "all_combinations = list(product(*list_of_lists))"
         ]
      },
      {
         "cell_type": "code",
         "execution_count": 17,
         "metadata": {},
         "outputs": [],
         "source": [
            "### Find the highest accuracy combination of hyperparameters.\n",
            "max_accuracy = -1\n",
            "max_accuracy_params = []\n",
            "for combination in all_combinations:\n",
            "    accuracy = randomForestAccuracy(img_train_cancer, img_train_healthy, train_health_labels, train_cancer_labels, \n",
            "                                    nest=combination[0], mssplit=combination[1], mleaf=combination[2])\n",
            "    \n",
            "    if accuracy > max_accuracy:\n",
            "        max_accuracy = accuracy\n",
            "        max_accuracy_params = combination"
         ]
      },
      {
         "cell_type": "code",
         "execution_count": 18,
         "metadata": {},
         "outputs": [
            {
               "name": "stdout",
               "output_type": "stream",
               "text": [
                  "0.8202995008319468\n",
                  "(150, 2, 1)\n"
               ]
            }
         ],
         "source": [
            "print(max_accuracy)\n",
            "print(max_accuracy_params)"
         ]
      },
      {
         "cell_type": "code",
         "execution_count": null,
         "metadata": {},
         "outputs": [],
         "source": []
      },
      {
         "cell_type": "markdown",
         "metadata": {},
         "source": [
            "# Perceptron"
         ]
      },
      {
         "cell_type": "markdown",
         "metadata": {},
         "source": [
            "Perceptron: Grayscale Images"
         ]
      },
      {
         "cell_type": "code",
         "execution_count": 14,
         "metadata": {},
         "outputs": [],
         "source": [
            "grayCancer = get_gray_images(training_dir_base+fold_0_all_path)\n",
            "grayHealthy = get_gray_images(training_dir_base+fold_0_hem_path)\n",
            "\n",
            "trainCancerLabels = [1 for _ in range(len(grayCancer))]\n",
            "trainHealthLabels = [0 for _ in range(len(grayHealthy))]\n",
            "\n",
            "images, labels = grayCancer + grayHealthy, trainCancerLabels + trainHealthLabels # concatenate cancer and healthy images, as well as their labels into combined image and label vectors\n",
            "images, labels = np.array(images), np.array(labels)\n",
            "\n",
            "# convert to np arrays for training\n",
            "grayImages = np.array(images).reshape(len(images), 450, 450)\n",
            "grayLabels = np.array(labels)"
         ]
      },
      {
         "cell_type": "code",
         "execution_count": 15,
         "metadata": {},
         "outputs": [],
         "source": [
            "# shuffle labels and images in unison so they maintain their image-label correspondance\n",
            "randomize = np.arange(len(grayImages))\n",
            "np.random.shuffle(randomize)\n",
            "grayImages = grayImages[randomize]\n",
            "grayLabels = grayLabels[randomize]"
         ]
      },
      {
         "cell_type": "code",
         "execution_count": 16,
         "metadata": {},
         "outputs": [
            {
               "name": "stdout",
               "output_type": "stream",
               "text": [
                  "Epoch 1/20\n"
               ]
            },
            {
               "name": "stderr",
               "output_type": "stream",
               "text": [
                  "2022-12-04 18:39:29.889784: W tensorflow/core/platform/profile_utils/cpu_utils.cc:128] Failed to get CPU frequency: 0 Hz\n"
               ]
            },
            {
               "name": "stdout",
               "output_type": "stream",
               "text": [
                  "201/201 [==============================] - 1s 2ms/step - loss: 100.9833 - accuracy: 0.6828\n",
                  "Epoch 2/20\n",
                  "201/201 [==============================] - 0s 1ms/step - loss: 114.5027 - accuracy: 0.6983\n",
                  "Epoch 3/20\n",
                  "201/201 [==============================] - 0s 1ms/step - loss: 67.6641 - accuracy: 0.7507\n",
                  "Epoch 4/20\n",
                  "201/201 [==============================] - 0s 1ms/step - loss: 90.7540 - accuracy: 0.7443\n",
                  "Epoch 5/20\n",
                  "201/201 [==============================] - 0s 1ms/step - loss: 63.1239 - accuracy: 0.7622\n",
                  "Epoch 6/20\n",
                  "201/201 [==============================] - 0s 1ms/step - loss: 72.7821 - accuracy: 0.7652\n",
                  "Epoch 7/20\n",
                  "201/201 [==============================] - 0s 1ms/step - loss: 102.5404 - accuracy: 0.7652\n",
                  "Epoch 8/20\n",
                  "201/201 [==============================] - 0s 1ms/step - loss: 53.2697 - accuracy: 0.7902\n",
                  "Epoch 9/20\n",
                  "201/201 [==============================] - 0s 1ms/step - loss: 106.3919 - accuracy: 0.7707\n",
                  "Epoch 10/20\n",
                  "201/201 [==============================] - 0s 2ms/step - loss: 41.6441 - accuracy: 0.8302\n",
                  "Epoch 11/20\n",
                  "201/201 [==============================] - 0s 2ms/step - loss: 34.1393 - accuracy: 0.8377\n",
                  "Epoch 12/20\n",
                  "201/201 [==============================] - 0s 2ms/step - loss: 30.1245 - accuracy: 0.8472\n",
                  "Epoch 13/20\n",
                  "201/201 [==============================] - 0s 1ms/step - loss: 57.0881 - accuracy: 0.8152\n",
                  "Epoch 14/20\n",
                  "201/201 [==============================] - 0s 1ms/step - loss: 56.5931 - accuracy: 0.8152\n",
                  "Epoch 15/20\n",
                  "201/201 [==============================] - 0s 1ms/step - loss: 26.5053 - accuracy: 0.8701\n",
                  "Epoch 16/20\n",
                  "201/201 [==============================] - 0s 1ms/step - loss: 35.6431 - accuracy: 0.8442\n",
                  "Epoch 17/20\n",
                  "201/201 [==============================] - 0s 1ms/step - loss: 36.1477 - accuracy: 0.8447\n",
                  "Epoch 18/20\n",
                  "201/201 [==============================] - 0s 1ms/step - loss: 47.2229 - accuracy: 0.8387\n",
                  "Epoch 19/20\n",
                  "201/201 [==============================] - 0s 1ms/step - loss: 40.8287 - accuracy: 0.8337\n",
                  "Epoch 20/20\n",
                  "201/201 [==============================] - 0s 1ms/step - loss: 26.2690 - accuracy: 0.8836\n"
               ]
            }
         ],
         "source": [
            "with tf.device('/CPU:0'): # tf uses GPU by default, use this if your config is out of whack like mine is -C.J.\n",
            "                            # otherwise use - with tf.device('/GPU:0) or remove code from under with statement\n",
            "    model = tf.keras.Sequential([\n",
            "        tf.keras.layers.Flatten(input_shape = [450, 450]),\n",
            "        tf.keras.layers.Dense(1, activation='sigmoid'), # Dense operation is output = activation(dot(input, kernel) + bias)\n",
            "    ])\n",
            "\n",
            "    model.compile(optimizer='adam', \n",
            "                loss=tf.keras.losses.BinaryCrossentropy(),                \n",
            "                metrics=['accuracy'])\n",
            "\n",
            "    #print(images.shape, labels.shape)\n",
            "\n",
            "    model.fit(grayImages, grayLabels, epochs = 20, batch_size = 10)"
         ]
      },
      {
         "cell_type": "code",
         "execution_count": 17,
         "metadata": {},
         "outputs": [],
         "source": [
            "### Create testing data\n",
            "grayCancerTest = get_gray_images(training_dir_base+fold_1_all_path)\n",
            "grayHealthyTest = get_gray_images(training_dir_base+fold_1_hem_path)\n",
            "\n",
            "testCancerLabels = [1 for _ in range(len(grayCancerTest))]\n",
            "testHealthLabels = [0 for _ in range(len(grayHealthyTest))]\n",
            "\n",
            "images, labels = grayCancerTest + grayHealthyTest, testCancerLabels + testHealthLabels # concatenate cancer and healthy images, as well as their labels into combined image and label vectors\n",
            "images, labels = np.array(images), np.array(labels)\n",
            "\n",
            "# convert to np arrays for training\n",
            "grayImagesTest = np.array(images).reshape(len(images), 450, 450)\n",
            "grayLabelsTest = np.array(labels)"
         ]
      },
      {
         "cell_type": "code",
         "execution_count": 18,
         "metadata": {},
         "outputs": [
            {
               "name": "stdout",
               "output_type": "stream",
               "text": [
                  "63/63 [==============================] - 0s 6ms/step - loss: 138.1670 - accuracy: 0.7113\n"
               ]
            },
            {
               "data": {
                  "text/plain": [
                     "[138.16700744628906, 0.7112886905670166]"
                  ]
               },
               "execution_count": 18,
               "metadata": {},
               "output_type": "execute_result"
            }
         ],
         "source": [
            "### Test model on test data\n",
            "model.evaluate(grayImagesTest, grayLabelsTest)"
         ]
      },
      {
         "cell_type": "markdown",
         "metadata": {},
         "source": [
            "Perceptron: HSV Images"
         ]
      },
      {
         "cell_type": "code",
         "execution_count": 19,
         "metadata": {},
         "outputs": [],
         "source": [
            "hsvCancer = get_hsv_images(training_dir_base+fold_0_all_path)\n",
            "hsvHealthy = get_hsv_images(training_dir_base+fold_0_hem_path)\n",
            "\n",
            "trainCancerLabels = [1 for _ in range(len(hsvCancer))]\n",
            "trainHealthLabels = [0 for _ in range(len(hsvHealthy))]\n",
            "\n",
            "images, labels = hsvCancer + hsvHealthy, trainCancerLabels + trainHealthLabels # concatenate cancer and healthy images, as well as their labels into combined image and label vectors\n",
            "images, labels = np.array(images), np.array(labels)\n",
            "\n",
            "# convert to np arrays for training\n",
            "hsvImages = np.array(images).reshape(len(images), 450, 450, 3)\n",
            "hsvLabels = np.array(labels)\n",
            "#plt.imshow(hsvImages[0])"
         ]
      },
      {
         "cell_type": "code",
         "execution_count": 20,
         "metadata": {},
         "outputs": [],
         "source": [
            "# shuffle labels and images in unison so they maintain their image-label correspondance\n",
            "randomize = np.arange(len(hsvImages))\n",
            "np.random.shuffle(randomize)\n",
            "hsvImages = hsvImages[randomize]\n",
            "hsvLabels = hsvLabels[randomize]"
         ]
      },
      {
         "cell_type": "code",
         "execution_count": 21,
         "metadata": {},
         "outputs": [
            {
               "name": "stdout",
               "output_type": "stream",
               "text": [
                  "Epoch 1/10\n",
                  "201/201 [==============================] - 1s 5ms/step - loss: 198.8432 - accuracy: 0.6903\n",
                  "Epoch 2/10\n",
                  "201/201 [==============================] - 1s 5ms/step - loss: 131.0860 - accuracy: 0.7138\n",
                  "Epoch 3/10\n",
                  "201/201 [==============================] - 1s 5ms/step - loss: 178.6445 - accuracy: 0.7228\n",
                  "Epoch 4/10\n",
                  "201/201 [==============================] - 1s 5ms/step - loss: 105.0891 - accuracy: 0.7438\n",
                  "Epoch 5/10\n",
                  "201/201 [==============================] - 1s 6ms/step - loss: 101.1356 - accuracy: 0.7522\n",
                  "Epoch 6/10\n",
                  "201/201 [==============================] - 1s 5ms/step - loss: 81.9695 - accuracy: 0.7817\n",
                  "Epoch 7/10\n",
                  "201/201 [==============================] - 1s 5ms/step - loss: 109.5454 - accuracy: 0.7522\n",
                  "Epoch 8/10\n",
                  "201/201 [==============================] - 1s 5ms/step - loss: 116.4337 - accuracy: 0.7757\n",
                  "Epoch 9/10\n",
                  "201/201 [==============================] - 1s 5ms/step - loss: 76.3094 - accuracy: 0.8042\n",
                  "Epoch 10/10\n",
                  "201/201 [==============================] - 1s 5ms/step - loss: 96.8500 - accuracy: 0.7967\n"
               ]
            }
         ],
         "source": [
            "with tf.device('/CPU:0'): \n",
            "    model = tf.keras.Sequential([\n",
            "        tf.keras.layers.Flatten(input_shape = [450, 450, 3]),\n",
            "        tf.keras.layers.Dense(1, activation='sigmoid'), # Dense operation is output = activation(dot(input, kernel) + bias)\n",
            "    ])\n",
            "\n",
            "    model.compile(optimizer='adam', \n",
            "                loss=tf.keras.losses.BinaryCrossentropy(),                \n",
            "                metrics=['accuracy'])\n",
            "\n",
            "    model.fit(hsvImages, hsvLabels, epochs = 10, batch_size = 10)"
         ]
      },
      {
         "cell_type": "code",
         "execution_count": 22,
         "metadata": {},
         "outputs": [],
         "source": [
            "### Create testing data\n",
            "hsvCancerTest = get_hsv_images(training_dir_base+fold_1_all_path)\n",
            "hsvHealthyTest = get_hsv_images(training_dir_base+fold_1_hem_path)\n",
            "\n",
            "testCancerLabels = [1 for _ in range(len(hsvCancerTest))]\n",
            "testHealthLabels = [0 for _ in range(len(hsvHealthyTest))]\n",
            "\n",
            "images, labels = hsvCancerTest + hsvHealthyTest, testCancerLabels + testHealthLabels # concatenate cancer and healthy images, as well as their labels into combined image and label vectors\n",
            "images, labels = np.array(images), np.array(labels)\n",
            "\n",
            "# convert to np arrays for training\n",
            "hsvImagesTest = np.array(images).reshape(len(images), 450, 450, 3)\n",
            "hsvLabelsTest = np.array(labels)"
         ]
      },
      {
         "cell_type": "code",
         "execution_count": 23,
         "metadata": {},
         "outputs": [
            {
               "name": "stdout",
               "output_type": "stream",
               "text": [
                  "63/63 [==============================] - 1s 20ms/step - loss: 134.4878 - accuracy: 0.7048\n"
               ]
            },
            {
               "data": {
                  "text/plain": [
                     "[134.48776245117188, 0.7047951817512512]"
                  ]
               },
               "execution_count": 23,
               "metadata": {},
               "output_type": "execute_result"
            }
         ],
         "source": [
            "### Test model on test data\n",
            "model.evaluate(hsvImagesTest, hsvLabelsTest)"
         ]
      },
      {
         "cell_type": "markdown",
         "metadata": {},
         "source": [
            "Perceptron: Saturated Images"
         ]
      },
      {
         "cell_type": "code",
         "execution_count": 19,
         "metadata": {},
         "outputs": [],
         "source": [
            "satCancer = get_saturated_images(training_dir_base+fold_0_all_path)\n",
            "satHealthy = get_saturated_images(training_dir_base+fold_0_hem_path)\n",
            "\n",
            "trainCancerLabels = [1 for _ in range(len(satCancer))]\n",
            "trainHealthLabels = [0 for _ in range(len(satHealthy))]\n",
            "\n",
            "images, labels = satCancer + satHealthy, trainCancerLabels + trainHealthLabels # concatenate cancer and healthy images, as well as their labels into combined image and label vectors\n",
            "images, labels = np.array(images), np.array(labels)\n",
            "\n",
            "# convert to np arrays for training\n",
            "satImages = np.array(images).reshape(len(images), 450, 450, 3)\n",
            "satLabels = np.array(labels)"
         ]
      },
      {
         "cell_type": "code",
         "execution_count": 20,
         "metadata": {},
         "outputs": [],
         "source": [
            "# shuffle labels and images in unison so they maintain their image-label correspondance\n",
            "randomize = np.arange(len(satImages))\n",
            "np.random.shuffle(randomize)\n",
            "satImages = satImages[randomize]\n",
            "satLabels = satLabels[randomize]"
         ]
      },
      {
         "cell_type": "code",
         "execution_count": 21,
         "metadata": {},
         "outputs": [
            {
               "name": "stdout",
               "output_type": "stream",
               "text": [
                  "Epoch 1/10\n",
                  "201/201 [==============================] - 1s 5ms/step - loss: 474.2840 - accuracy: 0.6813\n",
                  "Epoch 2/10\n",
                  "201/201 [==============================] - 1s 5ms/step - loss: 321.0898 - accuracy: 0.7088\n",
                  "Epoch 3/10\n",
                  "201/201 [==============================] - 1s 6ms/step - loss: 305.6201 - accuracy: 0.7597\n",
                  "Epoch 4/10\n",
                  "201/201 [==============================] - 1s 6ms/step - loss: 286.0834 - accuracy: 0.7502\n",
                  "Epoch 5/10\n",
                  "201/201 [==============================] - 1s 6ms/step - loss: 324.7443 - accuracy: 0.7687\n",
                  "Epoch 6/10\n",
                  "201/201 [==============================] - 1s 6ms/step - loss: 435.4881 - accuracy: 0.7797\n",
                  "Epoch 7/10\n",
                  "201/201 [==============================] - 1s 5ms/step - loss: 379.8261 - accuracy: 0.7677\n",
                  "Epoch 8/10\n",
                  "201/201 [==============================] - 1s 5ms/step - loss: 224.7224 - accuracy: 0.7972\n",
                  "Epoch 9/10\n",
                  "201/201 [==============================] - 1s 5ms/step - loss: 92.1616 - accuracy: 0.8506\n",
                  "Epoch 10/10\n",
                  "201/201 [==============================] - 1s 5ms/step - loss: 132.1814 - accuracy: 0.8247\n"
               ]
            }
         ],
         "source": [
            "with tf.device('/CPU:0'): \n",
            "    model = tf.keras.Sequential([\n",
            "        tf.keras.layers.Flatten(input_shape = [450, 450, 3]),\n",
            "        tf.keras.layers.Dense(1, activation='sigmoid'), # Dense operation is output = activation(dot(input, kernel) + bias)\n",
            "    ])\n",
            "\n",
            "    model.compile(optimizer='adam', \n",
            "                loss=tf.keras.losses.BinaryCrossentropy(),                \n",
            "                metrics=['accuracy'])\n",
            "\n",
            "    model.fit(satImages, satLabels, epochs = 10, batch_size = 10)"
         ]
      },
      {
         "cell_type": "markdown",
         "metadata": {},
         "source": [
            "Perceptron: Saturated Images"
         ]
      },
      {
         "cell_type": "code",
         "execution_count": 22,
         "metadata": {},
         "outputs": [],
         "source": [
            "### Create testing data\n",
            "satCancerTest = get_saturated_images(training_dir_base+fold_1_all_path)\n",
            "satHealthyTest = get_saturated_images(training_dir_base+fold_1_hem_path)\n",
            "\n",
            "testCancerLabels = [1 for _ in range(len(satCancerTest))]\n",
            "testHealthLabels = [0 for _ in range(len(satHealthyTest))]\n",
            "\n",
            "images, labels = satCancerTest + satHealthyTest, testCancerLabels + testHealthLabels # concatenate cancer and healthy images, as well as their labels into combined image and label vectors\n",
            "images, labels = np.array(images), np.array(labels)\n",
            "\n",
            "# convert to np arrays for training\n",
            "satImagesTest = np.array(images).reshape(len(images), 450, 450, 3)\n",
            "satLabelsTest = np.array(labels)\n",
            "### usually works, currently expirencing resource exhausted error- plz try on your machine if you pull this -C.J."
         ]
      },
      {
         "cell_type": "code",
         "execution_count": 24,
         "metadata": {},
         "outputs": [
            {
               "name": "stdout",
               "output_type": "stream",
               "text": [
                  "63/63 [==============================] - 1s 19ms/step - loss: 327.3982 - accuracy: 0.7488\n"
               ]
            },
            {
               "data": {
                  "text/plain": [
                     "[327.3981628417969, 0.7487512230873108]"
                  ]
               },
               "execution_count": 24,
               "metadata": {},
               "output_type": "execute_result"
            }
         ],
         "source": [
            "### Test model on test data\n",
            "model.evaluate(satImagesTest, satLabelsTest)"
         ]
      },
      {
         "cell_type": "code",
         "execution_count": 44,
         "metadata": {},
         "outputs": [
            {
               "name": "stdout",
               "output_type": "stream",
               "text": [
                  "63/63 [==============================] - 2s 28ms/step\n"
               ]
            }
         ],
         "source": [
            "predictions = model.predict(satImagesTest)"
         ]
      },
      {
         "cell_type": "code",
         "execution_count": 45,
         "metadata": {},
         "outputs": [],
         "source": [
            "### Attempt at rounding the final values so that all values are either a 1 or 0\n",
            "\n",
            "for i in range(len(predictions)):\n",
            "    if predictions[i] < 1 and predictions[i] > 0:\n",
            "        if predictions[i] > .5:\n",
            "            predictions[i] = 1.0\n",
            "        else:\n",
            "            predictions[i] = 0.0"
         ]
      },
      {
         "cell_type": "code",
         "execution_count": 46,
         "metadata": {},
         "outputs": [],
         "source": [
            "for i in range(len(predictions)):\n",
            "    if predictions[i] < 1 and predictions[i] > 0:\n",
            "        print(predictions[i])"
         ]
      },
      {
         "cell_type": "code",
         "execution_count": 47,
         "metadata": {},
         "outputs": [
            {
               "data": {
                  "text/plain": [
                     "0.7487512487512488"
                  ]
               },
               "execution_count": 47,
               "metadata": {},
               "output_type": "execute_result"
            }
         ],
         "source": [
            "metrics.accuracy_score(satLabelsTest, predictions)"
         ]
      },
      {
         "cell_type": "code",
         "execution_count": 48,
         "metadata": {},
         "outputs": [
            {
               "data": {
                  "application/vnd.plotly.v1+json": {
                     "config": {
                        "plotlyServerURL": "https://plot.ly"
                     },
                     "data": [
                        {
                           "coloraxis": "coloraxis",
                           "hovertemplate": "Confusion Matrix Neural Net: %{x}<br>y: %{y}<br>color: %{z}<extra></extra>",
                           "name": "0",
                           "texttemplate": "%{z}",
                           "type": "heatmap",
                           "x": [
                              "Positive",
                              "Negative"
                           ],
                           "xaxis": "x",
                           "y": [
                              "Positive",
                              "Negative"
                           ],
                           "yaxis": "y",
                           "z": [
                              [
                                 771,
                                 230
                              ],
                              [
                                 273,
                                 728
                              ]
                           ]
                        }
                     ],
                     "layout": {
                        "coloraxis": {
                           "colorscale": [
                              [
                                 0,
                                 "#0d0887"
                              ],
                              [
                                 0.1111111111111111,
                                 "#46039f"
                              ],
                              [
                                 0.2222222222222222,
                                 "#7201a8"
                              ],
                              [
                                 0.3333333333333333,
                                 "#9c179e"
                              ],
                              [
                                 0.4444444444444444,
                                 "#bd3786"
                              ],
                              [
                                 0.5555555555555556,
                                 "#d8576b"
                              ],
                              [
                                 0.6666666666666666,
                                 "#ed7953"
                              ],
                              [
                                 0.7777777777777778,
                                 "#fb9f3a"
                              ],
                              [
                                 0.8888888888888888,
                                 "#fdca26"
                              ],
                              [
                                 1,
                                 "#f0f921"
                              ]
                           ]
                        },
                        "margin": {
                           "t": 60
                        },
                        "template": {
                           "data": {
                              "bar": [
                                 {
                                    "error_x": {
                                       "color": "#2a3f5f"
                                    },
                                    "error_y": {
                                       "color": "#2a3f5f"
                                    },
                                    "marker": {
                                       "line": {
                                          "color": "#E5ECF6",
                                          "width": 0.5
                                       },
                                       "pattern": {
                                          "fillmode": "overlay",
                                          "size": 10,
                                          "solidity": 0.2
                                       }
                                    },
                                    "type": "bar"
                                 }
                              ],
                              "barpolar": [
                                 {
                                    "marker": {
                                       "line": {
                                          "color": "#E5ECF6",
                                          "width": 0.5
                                       },
                                       "pattern": {
                                          "fillmode": "overlay",
                                          "size": 10,
                                          "solidity": 0.2
                                       }
                                    },
                                    "type": "barpolar"
                                 }
                              ],
                              "carpet": [
                                 {
                                    "aaxis": {
                                       "endlinecolor": "#2a3f5f",
                                       "gridcolor": "white",
                                       "linecolor": "white",
                                       "minorgridcolor": "white",
                                       "startlinecolor": "#2a3f5f"
                                    },
                                    "baxis": {
                                       "endlinecolor": "#2a3f5f",
                                       "gridcolor": "white",
                                       "linecolor": "white",
                                       "minorgridcolor": "white",
                                       "startlinecolor": "#2a3f5f"
                                    },
                                    "type": "carpet"
                                 }
                              ],
                              "choropleth": [
                                 {
                                    "colorbar": {
                                       "outlinewidth": 0,
                                       "ticks": ""
                                    },
                                    "type": "choropleth"
                                 }
                              ],
                              "contour": [
                                 {
                                    "colorbar": {
                                       "outlinewidth": 0,
                                       "ticks": ""
                                    },
                                    "colorscale": [
                                       [
                                          0,
                                          "#0d0887"
                                       ],
                                       [
                                          0.1111111111111111,
                                          "#46039f"
                                       ],
                                       [
                                          0.2222222222222222,
                                          "#7201a8"
                                       ],
                                       [
                                          0.3333333333333333,
                                          "#9c179e"
                                       ],
                                       [
                                          0.4444444444444444,
                                          "#bd3786"
                                       ],
                                       [
                                          0.5555555555555556,
                                          "#d8576b"
                                       ],
                                       [
                                          0.6666666666666666,
                                          "#ed7953"
                                       ],
                                       [
                                          0.7777777777777778,
                                          "#fb9f3a"
                                       ],
                                       [
                                          0.8888888888888888,
                                          "#fdca26"
                                       ],
                                       [
                                          1,
                                          "#f0f921"
                                       ]
                                    ],
                                    "type": "contour"
                                 }
                              ],
                              "contourcarpet": [
                                 {
                                    "colorbar": {
                                       "outlinewidth": 0,
                                       "ticks": ""
                                    },
                                    "type": "contourcarpet"
                                 }
                              ],
                              "heatmap": [
                                 {
                                    "colorbar": {
                                       "outlinewidth": 0,
                                       "ticks": ""
                                    },
                                    "colorscale": [
                                       [
                                          0,
                                          "#0d0887"
                                       ],
                                       [
                                          0.1111111111111111,
                                          "#46039f"
                                       ],
                                       [
                                          0.2222222222222222,
                                          "#7201a8"
                                       ],
                                       [
                                          0.3333333333333333,
                                          "#9c179e"
                                       ],
                                       [
                                          0.4444444444444444,
                                          "#bd3786"
                                       ],
                                       [
                                          0.5555555555555556,
                                          "#d8576b"
                                       ],
                                       [
                                          0.6666666666666666,
                                          "#ed7953"
                                       ],
                                       [
                                          0.7777777777777778,
                                          "#fb9f3a"
                                       ],
                                       [
                                          0.8888888888888888,
                                          "#fdca26"
                                       ],
                                       [
                                          1,
                                          "#f0f921"
                                       ]
                                    ],
                                    "type": "heatmap"
                                 }
                              ],
                              "heatmapgl": [
                                 {
                                    "colorbar": {
                                       "outlinewidth": 0,
                                       "ticks": ""
                                    },
                                    "colorscale": [
                                       [
                                          0,
                                          "#0d0887"
                                       ],
                                       [
                                          0.1111111111111111,
                                          "#46039f"
                                       ],
                                       [
                                          0.2222222222222222,
                                          "#7201a8"
                                       ],
                                       [
                                          0.3333333333333333,
                                          "#9c179e"
                                       ],
                                       [
                                          0.4444444444444444,
                                          "#bd3786"
                                       ],
                                       [
                                          0.5555555555555556,
                                          "#d8576b"
                                       ],
                                       [
                                          0.6666666666666666,
                                          "#ed7953"
                                       ],
                                       [
                                          0.7777777777777778,
                                          "#fb9f3a"
                                       ],
                                       [
                                          0.8888888888888888,
                                          "#fdca26"
                                       ],
                                       [
                                          1,
                                          "#f0f921"
                                       ]
                                    ],
                                    "type": "heatmapgl"
                                 }
                              ],
                              "histogram": [
                                 {
                                    "marker": {
                                       "pattern": {
                                          "fillmode": "overlay",
                                          "size": 10,
                                          "solidity": 0.2
                                       }
                                    },
                                    "type": "histogram"
                                 }
                              ],
                              "histogram2d": [
                                 {
                                    "colorbar": {
                                       "outlinewidth": 0,
                                       "ticks": ""
                                    },
                                    "colorscale": [
                                       [
                                          0,
                                          "#0d0887"
                                       ],
                                       [
                                          0.1111111111111111,
                                          "#46039f"
                                       ],
                                       [
                                          0.2222222222222222,
                                          "#7201a8"
                                       ],
                                       [
                                          0.3333333333333333,
                                          "#9c179e"
                                       ],
                                       [
                                          0.4444444444444444,
                                          "#bd3786"
                                       ],
                                       [
                                          0.5555555555555556,
                                          "#d8576b"
                                       ],
                                       [
                                          0.6666666666666666,
                                          "#ed7953"
                                       ],
                                       [
                                          0.7777777777777778,
                                          "#fb9f3a"
                                       ],
                                       [
                                          0.8888888888888888,
                                          "#fdca26"
                                       ],
                                       [
                                          1,
                                          "#f0f921"
                                       ]
                                    ],
                                    "type": "histogram2d"
                                 }
                              ],
                              "histogram2dcontour": [
                                 {
                                    "colorbar": {
                                       "outlinewidth": 0,
                                       "ticks": ""
                                    },
                                    "colorscale": [
                                       [
                                          0,
                                          "#0d0887"
                                       ],
                                       [
                                          0.1111111111111111,
                                          "#46039f"
                                       ],
                                       [
                                          0.2222222222222222,
                                          "#7201a8"
                                       ],
                                       [
                                          0.3333333333333333,
                                          "#9c179e"
                                       ],
                                       [
                                          0.4444444444444444,
                                          "#bd3786"
                                       ],
                                       [
                                          0.5555555555555556,
                                          "#d8576b"
                                       ],
                                       [
                                          0.6666666666666666,
                                          "#ed7953"
                                       ],
                                       [
                                          0.7777777777777778,
                                          "#fb9f3a"
                                       ],
                                       [
                                          0.8888888888888888,
                                          "#fdca26"
                                       ],
                                       [
                                          1,
                                          "#f0f921"
                                       ]
                                    ],
                                    "type": "histogram2dcontour"
                                 }
                              ],
                              "mesh3d": [
                                 {
                                    "colorbar": {
                                       "outlinewidth": 0,
                                       "ticks": ""
                                    },
                                    "type": "mesh3d"
                                 }
                              ],
                              "parcoords": [
                                 {
                                    "line": {
                                       "colorbar": {
                                          "outlinewidth": 0,
                                          "ticks": ""
                                       }
                                    },
                                    "type": "parcoords"
                                 }
                              ],
                              "pie": [
                                 {
                                    "automargin": true,
                                    "type": "pie"
                                 }
                              ],
                              "scatter": [
                                 {
                                    "fillpattern": {
                                       "fillmode": "overlay",
                                       "size": 10,
                                       "solidity": 0.2
                                    },
                                    "type": "scatter"
                                 }
                              ],
                              "scatter3d": [
                                 {
                                    "line": {
                                       "colorbar": {
                                          "outlinewidth": 0,
                                          "ticks": ""
                                       }
                                    },
                                    "marker": {
                                       "colorbar": {
                                          "outlinewidth": 0,
                                          "ticks": ""
                                       }
                                    },
                                    "type": "scatter3d"
                                 }
                              ],
                              "scattercarpet": [
                                 {
                                    "marker": {
                                       "colorbar": {
                                          "outlinewidth": 0,
                                          "ticks": ""
                                       }
                                    },
                                    "type": "scattercarpet"
                                 }
                              ],
                              "scattergeo": [
                                 {
                                    "marker": {
                                       "colorbar": {
                                          "outlinewidth": 0,
                                          "ticks": ""
                                       }
                                    },
                                    "type": "scattergeo"
                                 }
                              ],
                              "scattergl": [
                                 {
                                    "marker": {
                                       "colorbar": {
                                          "outlinewidth": 0,
                                          "ticks": ""
                                       }
                                    },
                                    "type": "scattergl"
                                 }
                              ],
                              "scattermapbox": [
                                 {
                                    "marker": {
                                       "colorbar": {
                                          "outlinewidth": 0,
                                          "ticks": ""
                                       }
                                    },
                                    "type": "scattermapbox"
                                 }
                              ],
                              "scatterpolar": [
                                 {
                                    "marker": {
                                       "colorbar": {
                                          "outlinewidth": 0,
                                          "ticks": ""
                                       }
                                    },
                                    "type": "scatterpolar"
                                 }
                              ],
                              "scatterpolargl": [
                                 {
                                    "marker": {
                                       "colorbar": {
                                          "outlinewidth": 0,
                                          "ticks": ""
                                       }
                                    },
                                    "type": "scatterpolargl"
                                 }
                              ],
                              "scatterternary": [
                                 {
                                    "marker": {
                                       "colorbar": {
                                          "outlinewidth": 0,
                                          "ticks": ""
                                       }
                                    },
                                    "type": "scatterternary"
                                 }
                              ],
                              "surface": [
                                 {
                                    "colorbar": {
                                       "outlinewidth": 0,
                                       "ticks": ""
                                    },
                                    "colorscale": [
                                       [
                                          0,
                                          "#0d0887"
                                       ],
                                       [
                                          0.1111111111111111,
                                          "#46039f"
                                       ],
                                       [
                                          0.2222222222222222,
                                          "#7201a8"
                                       ],
                                       [
                                          0.3333333333333333,
                                          "#9c179e"
                                       ],
                                       [
                                          0.4444444444444444,
                                          "#bd3786"
                                       ],
                                       [
                                          0.5555555555555556,
                                          "#d8576b"
                                       ],
                                       [
                                          0.6666666666666666,
                                          "#ed7953"
                                       ],
                                       [
                                          0.7777777777777778,
                                          "#fb9f3a"
                                       ],
                                       [
                                          0.8888888888888888,
                                          "#fdca26"
                                       ],
                                       [
                                          1,
                                          "#f0f921"
                                       ]
                                    ],
                                    "type": "surface"
                                 }
                              ],
                              "table": [
                                 {
                                    "cells": {
                                       "fill": {
                                          "color": "#EBF0F8"
                                       },
                                       "line": {
                                          "color": "white"
                                       }
                                    },
                                    "header": {
                                       "fill": {
                                          "color": "#C8D4E3"
                                       },
                                       "line": {
                                          "color": "white"
                                       }
                                    },
                                    "type": "table"
                                 }
                              ]
                           },
                           "layout": {
                              "annotationdefaults": {
                                 "arrowcolor": "#2a3f5f",
                                 "arrowhead": 0,
                                 "arrowwidth": 1
                              },
                              "autotypenumbers": "strict",
                              "coloraxis": {
                                 "colorbar": {
                                    "outlinewidth": 0,
                                    "ticks": ""
                                 }
                              },
                              "colorscale": {
                                 "diverging": [
                                    [
                                       0,
                                       "#8e0152"
                                    ],
                                    [
                                       0.1,
                                       "#c51b7d"
                                    ],
                                    [
                                       0.2,
                                       "#de77ae"
                                    ],
                                    [
                                       0.3,
                                       "#f1b6da"
                                    ],
                                    [
                                       0.4,
                                       "#fde0ef"
                                    ],
                                    [
                                       0.5,
                                       "#f7f7f7"
                                    ],
                                    [
                                       0.6,
                                       "#e6f5d0"
                                    ],
                                    [
                                       0.7,
                                       "#b8e186"
                                    ],
                                    [
                                       0.8,
                                       "#7fbc41"
                                    ],
                                    [
                                       0.9,
                                       "#4d9221"
                                    ],
                                    [
                                       1,
                                       "#276419"
                                    ]
                                 ],
                                 "sequential": [
                                    [
                                       0,
                                       "#0d0887"
                                    ],
                                    [
                                       0.1111111111111111,
                                       "#46039f"
                                    ],
                                    [
                                       0.2222222222222222,
                                       "#7201a8"
                                    ],
                                    [
                                       0.3333333333333333,
                                       "#9c179e"
                                    ],
                                    [
                                       0.4444444444444444,
                                       "#bd3786"
                                    ],
                                    [
                                       0.5555555555555556,
                                       "#d8576b"
                                    ],
                                    [
                                       0.6666666666666666,
                                       "#ed7953"
                                    ],
                                    [
                                       0.7777777777777778,
                                       "#fb9f3a"
                                    ],
                                    [
                                       0.8888888888888888,
                                       "#fdca26"
                                    ],
                                    [
                                       1,
                                       "#f0f921"
                                    ]
                                 ],
                                 "sequentialminus": [
                                    [
                                       0,
                                       "#0d0887"
                                    ],
                                    [
                                       0.1111111111111111,
                                       "#46039f"
                                    ],
                                    [
                                       0.2222222222222222,
                                       "#7201a8"
                                    ],
                                    [
                                       0.3333333333333333,
                                       "#9c179e"
                                    ],
                                    [
                                       0.4444444444444444,
                                       "#bd3786"
                                    ],
                                    [
                                       0.5555555555555556,
                                       "#d8576b"
                                    ],
                                    [
                                       0.6666666666666666,
                                       "#ed7953"
                                    ],
                                    [
                                       0.7777777777777778,
                                       "#fb9f3a"
                                    ],
                                    [
                                       0.8888888888888888,
                                       "#fdca26"
                                    ],
                                    [
                                       1,
                                       "#f0f921"
                                    ]
                                 ]
                              },
                              "colorway": [
                                 "#636efa",
                                 "#EF553B",
                                 "#00cc96",
                                 "#ab63fa",
                                 "#FFA15A",
                                 "#19d3f3",
                                 "#FF6692",
                                 "#B6E880",
                                 "#FF97FF",
                                 "#FECB52"
                              ],
                              "font": {
                                 "color": "#2a3f5f"
                              },
                              "geo": {
                                 "bgcolor": "white",
                                 "lakecolor": "white",
                                 "landcolor": "#E5ECF6",
                                 "showlakes": true,
                                 "showland": true,
                                 "subunitcolor": "white"
                              },
                              "hoverlabel": {
                                 "align": "left"
                              },
                              "hovermode": "closest",
                              "mapbox": {
                                 "style": "light"
                              },
                              "paper_bgcolor": "white",
                              "plot_bgcolor": "#E5ECF6",
                              "polar": {
                                 "angularaxis": {
                                    "gridcolor": "white",
                                    "linecolor": "white",
                                    "ticks": ""
                                 },
                                 "bgcolor": "#E5ECF6",
                                 "radialaxis": {
                                    "gridcolor": "white",
                                    "linecolor": "white",
                                    "ticks": ""
                                 }
                              },
                              "scene": {
                                 "xaxis": {
                                    "backgroundcolor": "#E5ECF6",
                                    "gridcolor": "white",
                                    "gridwidth": 2,
                                    "linecolor": "white",
                                    "showbackground": true,
                                    "ticks": "",
                                    "zerolinecolor": "white"
                                 },
                                 "yaxis": {
                                    "backgroundcolor": "#E5ECF6",
                                    "gridcolor": "white",
                                    "gridwidth": 2,
                                    "linecolor": "white",
                                    "showbackground": true,
                                    "ticks": "",
                                    "zerolinecolor": "white"
                                 },
                                 "zaxis": {
                                    "backgroundcolor": "#E5ECF6",
                                    "gridcolor": "white",
                                    "gridwidth": 2,
                                    "linecolor": "white",
                                    "showbackground": true,
                                    "ticks": "",
                                    "zerolinecolor": "white"
                                 }
                              },
                              "shapedefaults": {
                                 "line": {
                                    "color": "#2a3f5f"
                                 }
                              },
                              "ternary": {
                                 "aaxis": {
                                    "gridcolor": "white",
                                    "linecolor": "white",
                                    "ticks": ""
                                 },
                                 "baxis": {
                                    "gridcolor": "white",
                                    "linecolor": "white",
                                    "ticks": ""
                                 },
                                 "bgcolor": "#E5ECF6",
                                 "caxis": {
                                    "gridcolor": "white",
                                    "linecolor": "white",
                                    "ticks": ""
                                 }
                              },
                              "title": {
                                 "x": 0.05
                              },
                              "xaxis": {
                                 "automargin": true,
                                 "gridcolor": "white",
                                 "linecolor": "white",
                                 "ticks": "",
                                 "title": {
                                    "standoff": 15
                                 },
                                 "zerolinecolor": "white",
                                 "zerolinewidth": 2
                              },
                              "yaxis": {
                                 "automargin": true,
                                 "gridcolor": "white",
                                 "linecolor": "white",
                                 "ticks": "",
                                 "title": {
                                    "standoff": 15
                                 },
                                 "zerolinecolor": "white",
                                 "zerolinewidth": 2
                              }
                           }
                        },
                        "xaxis": {
                           "anchor": "y",
                           "constrain": "domain",
                           "domain": [
                              0,
                              1
                           ],
                           "scaleanchor": "y",
                           "title": {
                              "text": "Confusion Matrix Neural Net"
                           }
                        },
                        "yaxis": {
                           "anchor": "x",
                           "autorange": "reversed",
                           "constrain": "domain",
                           "domain": [
                              0,
                              1
                           ]
                        }
                     }
                  }
               },
               "metadata": {},
               "output_type": "display_data"
            }
         ],
         "source": [
            "confusion_matrix = metrics.confusion_matrix(satLabelsTest, predictions)\n",
            "px.imshow(\n",
            "    confusion_matrix, text_auto=True,\n",
            "    labels=dict(x=\"Confusion Matrix Neural Net\"),\n",
            "    x=['Positive', 'Negative'],\n",
            "    y=['Positive', 'Negative']\n",
            ")"
         ]
      }
   ],
   "metadata": {
      "kernelspec": {
         "display_name": "data-mining-final",
         "language": "python",
         "name": "data-mining-final"
      },
      "language_info": {
         "codemirror_mode": {
            "name": "ipython",
            "version": 3
         },
         "file_extension": ".py",
         "mimetype": "text/x-python",
         "name": "python",
         "nbconvert_exporter": "python",
         "pygments_lexer": "ipython3",
         "version": "3.10.6"
      },
      "vscode": {
         "interpreter": {
            "hash": "f3bbd7400a4e540df9ec213ff5f9d80417bf0d5b3957fbd1d0937394fa3586a3"
         }
      }
   },
   "nbformat": 4,
   "nbformat_minor": 4
}
