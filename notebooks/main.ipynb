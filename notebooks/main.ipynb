{
 "cells": [
  {
   "cell_type": "code",
   "execution_count": 5,
   "metadata": {},
   "outputs": [],
   "source": [
    "import pandas as pd\n",
    "import numpy as np\n",
    "import plotly.express as px\n",
    "import tensorflow as tf\n",
    "from utils.preprocessing import get_gray_images\n",
    "import sys"
   ]
  },
  {
   "cell_type": "code",
   "execution_count": 2,
   "metadata": {},
   "outputs": [],
   "source": [
    "testing_dir = '../data/C-NMC_Leukemia/testing_data/C-NMC_test_final_phase_data'\n",
    "training_dir_base = f'../data/C-NMC_Leukemia/training_data/'\n",
    "fold_0_all_path = 'fold_0/all'\n",
    "fold_0_hem_path = 'fold_0/hem'"
   ]
  },
  {
   "cell_type": "code",
   "execution_count": 8,
   "metadata": {},
   "outputs": [
    {
     "data": {
      "text/plain": [
       "2397"
      ]
     },
     "execution_count": 8,
     "metadata": {},
     "output_type": "execute_result"
    }
   ],
   "source": [
    "### The code for this lives in notebooks.utils.preprocessing\n",
    "gray_img_train_cancer = get_gray_images(training_dir_base+fold_0_all_path)\n",
    "#gray_img_train_healthy = get_gray_images(training_dir_base+fold_0_hem_path)\n",
    "#gray_img_test = get_gray_images(testing_dir)\n",
    "len(gray_img_train_cancer)"
   ]
  },
  {
   "cell_type": "code",
   "execution_count": 4,
   "metadata": {},
   "outputs": [],
   "source": [
    "from sklearn.model_selection import train_test_split\n",
    "from sklearn.ensemble import RandomForestClassifier\n",
    "\n"
   ]
  },
  {
   "cell_type": "code",
   "execution_count": null,
   "metadata": {},
   "outputs": [],
   "source": []
  }
 ],
 "metadata": {
  "kernelspec": {
   "display_name": "Python 3 (ipykernel)",
   "language": "python",
   "name": "python3"
  },
  "language_info": {
   "codemirror_mode": {
    "name": "ipython",
    "version": 3
   },
   "file_extension": ".py",
   "mimetype": "text/x-python",
   "name": "python",
   "nbconvert_exporter": "python",
   "pygments_lexer": "ipython3",
   "version": "3.9.13"
  },
  "vscode": {
   "interpreter": {
    "hash": "a080823f40af315a9a5d79cf302b32c1e5dfda7957f37ef30447179bcc27d8e4"
   }
  }
 },
 "nbformat": 4,
 "nbformat_minor": 4
}
